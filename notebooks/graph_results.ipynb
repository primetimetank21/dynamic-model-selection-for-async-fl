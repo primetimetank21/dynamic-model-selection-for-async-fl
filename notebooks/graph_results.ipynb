{
 "cells": [
  {
   "cell_type": "code",
   "execution_count": null,
   "id": "fa05cb8c-2e89-4d07-a8b7-d36af3a0b29a",
   "metadata": {},
   "outputs": [],
   "source": [
    "## Imports\n",
    "from pathlib import Path\n",
    "import sys\n",
    "\n",
    "sys.path.append(\"..\")\n",
    "\n",
    "import numpy as np\n",
    "import matplotlib.pyplot as plt\n",
    "import seaborn as sns\n",
    "import torch\n",
    "\n",
    "from sklearn.metrics import confusion_matrix, ConfusionMatrixDisplay\n",
    "from torch.utils.data import DataLoader\n",
    "\n",
    "import numpy as np\n",
    "import pandas as pd\n",
    "import torch\n",
    "\n",
    "from utils.train_utils import get_data, get_model"
   ]
  },
  {
   "cell_type": "code",
   "execution_count": null,
   "id": "a67c3ce6-bc56-413e-ac16-d8197f04e771",
   "metadata": {},
   "outputs": [],
   "source": [
    "## Simulate the args like in the `main_*.py` files\n",
    "class ARGS:\n",
    "    # federated arguments\n",
    "    # epochs:int = 1000         # rounds of training\n",
    "    epochs: int = 10  # rounds of training\n",
    "    train_test_same: int = 0  # use same testing for\n",
    "    num_users: int = 100  # number of users: K\n",
    "    shard_per_user: int = 2  # classes per user\n",
    "    frac: float = 0.1  # the fraction of clients: C\n",
    "    local_ep: int = 1  # the number of local epochs: E\n",
    "    local_bs: int = 10  # local batch size: B\n",
    "    bs: int = 128  # test batch size\n",
    "    lr: float = 0.01  # learning rate\n",
    "    # results_save:str = \"run1\"\n",
    "    momentum: float = 0.5  # SGD momentum (default: 0.5)\n",
    "    # gpu:int = 0\n",
    "    split: str = \"user\"  # train-test split type, user or sample\n",
    "    # grad_norm:str           # use_gradnorm_avging\n",
    "    local_ep_pretrain: int = 0  # the number of pretrain local ep\n",
    "    lr_decay: float = 1.0  # learning rate decay per round\n",
    "\n",
    "    # model arguments\n",
    "    model: str = \"cnn\"  # model name\n",
    "    kernel_num: int = 9  # number of each kind of kernel\n",
    "    kernel_sizes: str = \"3,4,5\"  # comma-separated kernel size to use for convolution\n",
    "    norm: str = \"batch_norm\"  # batch_norm, layer_norm, or None\n",
    "    num_filters: int = 32  # number of filters for conv nets\n",
    "    max_pool: str = True  # whether use max pooling rather than strided convolutions\n",
    "    num_layers_keep: int = 1  # number layers to keep\n",
    "\n",
    "    # other arguments\n",
    "    dataset: str = \"coba\"  # name of dataset\n",
    "    log_level: str = \"warning\"  # level of logger\n",
    "    iid: bool = True  # \"store_true\" #whether iid or not\n",
    "    num_classes: int = 14  # number of classes\n",
    "    num_channels: int = 3  # number of channels of images RGB\n",
    "    gpu: int = 0  # GPU ID, -1 for CPU\n",
    "    stopping_rounds: int = 10  # rounds of early stopping\n",
    "    verbose: bool = True  # \"store_true\"\n",
    "    print_freq: int = 100  # print loss frequency during training\n",
    "    seed: int = 1  # random seed (default:1)\n",
    "    test_freq: int = 1  # how often to test on val set\n",
    "    load_fed: str = \"\"  # define pretrained federated model path\n",
    "    results_save: str = \"run1\"  # define fed results save folder\n",
    "    start_saving: int = 0  # when to start saving models\n",
    "\n",
    "\n",
    "args = ARGS()\n",
    "\n",
    "args.device = torch.device(\n",
    "    \"cuda:{}\".format(args.gpu)\n",
    "    if torch.cuda.is_available() and args.gpu != -1\n",
    "    else \"cpu\"\n",
    ")\n",
    "\n",
    "args.num_users, args.device"
   ]
  },
  {
   "cell_type": "code",
   "execution_count": null,
   "id": "b28ae846-6890-4081-b9ca-29b60a76a337",
   "metadata": {},
   "outputs": [],
   "source": [
    "dataset_train, dataset_test, dict_users_train, dict_users_test = get_data(args)\n",
    "\n",
    "model = get_model(args)\n",
    "\n",
    "model_state_dict_path: str = Path(\n",
    "    \"../save\",\n",
    "    \"coba_legacy\",\n",
    "    \"cnn_iidFalse_num98_C0.3_le1\",\n",
    "    \"shard2\",\n",
    "    \"seed10_coba_fedavg_bestcase_run12\",\n",
    "    \"fed\",\n",
    "    \"model_1000.pt\",\n",
    ")\n",
    "\n",
    "model.load_state_dict(\n",
    "    torch.load(model_state_dict_path)\n",
    ") if args.device.type != \"cpu\" else model.load_state_dict(\n",
    "    torch.load(model_state_dict_path, map_location=torch.device(\"cpu\"))\n",
    ")"
   ]
  },
  {
   "cell_type": "code",
   "execution_count": null,
   "id": "1ebb1a92-5858-4759-8c8f-583777bbec8d",
   "metadata": {},
   "outputs": [],
   "source": [
    "data_loader: DataLoader = DataLoader(dataset_test, batch_size=args.bs)\n",
    "IS_USING_GPU: bool = args.gpu != -1 and args.device.type != \"cpu\"\n",
    "\n",
    "y_preds: np.array = np.array([])\n",
    "y_trues: np.array = np.array([])\n",
    "# coba_cms = []\n",
    "\n",
    "for _, (data, target) in enumerate(data_loader):\n",
    "    if args.gpu != -1 and args.device.type != \"cpu\":\n",
    "        data, target = data.to(args.device), target.to(args.device)\n",
    "    if args.dataset == \"coba\":\n",
    "        data = data.permute(0, 3, 1, 2)\n",
    "\n",
    "    log_probs: torch.Tensor = model(data)\n",
    "\n",
    "    y_pred: torch.Tensor = (\n",
    "        log_probs.cpu().data.max(1, keepdim=True)[1]\n",
    "        if args.device.type != \"cpu\"\n",
    "        else log_probs.data.max(1, keepdim=True)[1]\n",
    "    )\n",
    "\n",
    "    y_true: torch.Tensor = (\n",
    "        torch.tensor(list(map(torch.argmax, target.data)), device=\"cpu\").data.view_as(\n",
    "            y_pred\n",
    "        )\n",
    "        if args.dataset == \"coba\"\n",
    "        else target.to(\"cpu\").data.view_as(y_pred)\n",
    "    )\n",
    "\n",
    "    # coba_cms.append(confusion_matrix(y_pred=y_pred,y_true=y_true))\n",
    "\n",
    "    y_preds = np.append(y_preds, y_pred)\n",
    "    y_trues = np.append(y_trues, y_true)\n",
    "\n",
    "y_preds.shape == y_trues.shape"
   ]
  },
  {
   "cell_type": "code",
   "execution_count": null,
   "id": "74326ece-b1ed-4cf5-85bf-94936fa823c4",
   "metadata": {},
   "outputs": [],
   "source": [
    "coba_cm = confusion_matrix(y_pred=y_preds, y_true=y_trues)\n",
    "disp = ConfusionMatrixDisplay(confusion_matrix=coba_cm)\n",
    "disp.plot()\n",
    "disp.ax_.set_title(\"COBA Confusion Matrix\")\n",
    "print(dataset_train.class_to_idx)\n",
    "# plt.savefig(\"confusion_matrix_example.png\")"
   ]
  },
  {
   "cell_type": "markdown",
   "id": "78fcf217-6044-418a-a458-d1113a29e7b4",
   "metadata": {},
   "source": [
    "### Visualize Results"
   ]
  },
  {
   "cell_type": "code",
   "execution_count": null,
   "id": "0cf80900-9682-423a-b633-89a930c7abd8",
   "metadata": {},
   "outputs": [],
   "source": [
    "coba_results_path: str = Path(\n",
    "    \"../save\",\n",
    "    \"coba_legacy\",\n",
    "    \"cnn_iidFalse_num98_C0.3_le1\",\n",
    "    \"shard2\",\n",
    "    \"seed10_coba_fedavg_bestcase_run12\",\n",
    "    \"fed\",\n",
    "    \"results.csv\",\n",
    ")\n",
    "coba_results_df: pd.DataFrame = pd.read_csv(coba_results_path, delimiter=\",\")\n",
    "coba_results_df"
   ]
  },
  {
   "cell_type": "code",
   "execution_count": null,
   "id": "051be2ed-6dfe-4753-a8a6-1fe48d8a7324",
   "metadata": {},
   "outputs": [],
   "source": [
    "coba_results_df.describe()"
   ]
  },
  {
   "cell_type": "code",
   "execution_count": null,
   "id": "a590d757-9a5e-48a0-98a9-55cdcb341ccc",
   "metadata": {},
   "outputs": [],
   "source": [
    "args.num_users = 98\n",
    "args.frac = \"0.3\"\n",
    "args.iid = False\n",
    "args.log_level = \"info\"  # \"debug\" might crash the notebook\n",
    "args.seed = 0\n",
    "args.results_save = \"coba_fedavg_bestcase_run2\"\n",
    "\n",
    "base_dir: Path = Path(\n",
    "    Path.cwd().parent,\n",
    "    \"save\",\n",
    "    \"coba_legacy\",\n",
    "    f\"{args.model}_iid{args.iid}_num{args.num_users}_C{args.frac}_le{args.local_ep}\",\n",
    "    f\"shard{args.shard_per_user}\",\n",
    ")\n",
    "\n",
    "\n",
    "base_dir = Path(base_dir, f\"seed{args.seed}_{args.results_save}\")\n",
    "base_dir"
   ]
  },
  {
   "cell_type": "code",
   "execution_count": null,
   "id": "dd3fadc7-5120-42c4-adbc-a2e219e48458",
   "metadata": {},
   "outputs": [],
   "source": [
    "from utils.train_utils import save_metrics_graphs\n",
    "\n",
    "save_metrics_graphs(base_dir=base_dir, df=coba_results_df)"
   ]
  },
  {
   "cell_type": "code",
   "execution_count": null,
   "id": "f5fd5ffa-976d-4993-8d2d-0bc4c9da2f6b",
   "metadata": {},
   "outputs": [],
   "source": [
    "def graph_adjusted(base_dir: Path, col_name: str, df: pd.DataFrame) -> None:\n",
    "    graphs_dir: Path = Path(base_dir, \"fed\", \"metrics_graphs\")\n",
    "    graphs_dir.mkdir(exist_ok=True)\n",
    "\n",
    "    graph_save_file: Path = Path(graphs_dir, f\"{col_name.title()}.png\")\n",
    "\n",
    "    adjusted_col = (\n",
    "        df.groupby(np.arange(len(df)) // 10).mean()[col_name].values\n",
    "    )  # averaged every 10 epochs\n",
    "    epochs = np.arange(len(df) // 10) * 10\n",
    "    sns.lineplot(x=epochs, y=adjusted_col).set(\n",
    "        title=col_name.title(),\n",
    "        xlabel=\"Epochs\",\n",
    "        ylabel=\"Value\",\n",
    "    )\n",
    "    # plt.savefig(graph_save_file)\n",
    "    # plt.clf()"
   ]
  },
  {
   "cell_type": "code",
   "execution_count": null,
   "id": "f672dcce-165d-4563-9502-3fea6d88cc57",
   "metadata": {},
   "outputs": [],
   "source": [
    "graph_adjusted(col_name=\"best_acc\", base_dir=base_dir, df=coba_results_df)"
   ]
  },
  {
   "cell_type": "code",
   "execution_count": null,
   "id": "55c78b1b-2361-4dd6-b0c3-9a16e780fbd4",
   "metadata": {},
   "outputs": [],
   "source": [
    "graph_adjusted(col_name=\"acc_test\", base_dir=base_dir, df=coba_results_df)"
   ]
  },
  {
   "cell_type": "code",
   "execution_count": null,
   "id": "64136710-6299-4c81-8cb6-5e6d847c0ba1",
   "metadata": {},
   "outputs": [],
   "source": [
    "graph_adjusted(col_name=\"loss_test\", base_dir=base_dir, df=coba_results_df)"
   ]
  },
  {
   "cell_type": "code",
   "execution_count": null,
   "id": "b500a7d8-136f-4ad4-a893-cf45100cda1e",
   "metadata": {},
   "outputs": [],
   "source": [
    "graph_adjusted(col_name=\"f1_test\", base_dir=base_dir, df=coba_results_df)"
   ]
  },
  {
   "cell_type": "code",
   "execution_count": null,
   "id": "fa218c2b-c61c-4ba4-8d36-d099a1506b27",
   "metadata": {},
   "outputs": [],
   "source": [
    "graph_adjusted(col_name=\"precision_test\", base_dir=base_dir, df=coba_results_df)"
   ]
  },
  {
   "cell_type": "code",
   "execution_count": null,
   "id": "f8f8a712-0590-463b-a089-52ec66b342f4",
   "metadata": {},
   "outputs": [],
   "source": [
    "graph_adjusted(\n",
    "    col_name=\"recall_test\",\n",
    "    base_dir=base_dir,\n",
    "    df=coba_results_df,\n",
    ")"
   ]
  }
 ],
 "metadata": {
  "kernelspec": {
   "display_name": "Python 3 (ipykernel)",
   "language": "python",
   "name": "python3"
  },
  "language_info": {
   "codemirror_mode": {
    "name": "ipython",
    "version": 3
   },
   "file_extension": ".py",
   "mimetype": "text/x-python",
   "name": "python",
   "nbconvert_exporter": "python",
   "pygments_lexer": "ipython3",
   "version": "3.8.10"
  }
 },
 "nbformat": 4,
 "nbformat_minor": 5
}
