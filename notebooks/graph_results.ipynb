{
 "cells": [
  {
   "cell_type": "code",
   "execution_count": 1,
   "id": "fa05cb8c-2e89-4d07-a8b7-d36af3a0b29a",
   "metadata": {},
   "outputs": [],
   "source": [
    "## Imports\n",
    "from typing import Dict, List\n",
    "from pathlib import Path\n",
    "import sys\n",
    "\n",
    "sys.path.append(\"..\")\n",
    "\n",
    "import numpy as np\n",
    "\n",
    "# Use the pgf backend (must be set before pyplot imported) -- once set `plt.show()` doesn't work\n",
    "import matplotlib as mpl\n",
    "\n",
    "eng = \"pdf\"  # no issue here\n",
    "mpl.use(\"pgf\")\n",
    "mpl.rc(\"font\", family=\"serif\")\n",
    "mpl.rcParams.update(\n",
    "    {\n",
    "        \"pgf.rcfonts\": False,\n",
    "        \"pgf.texsystem\": eng + \"latex\",\n",
    "        # \"pgf.preamble\" : '\\\\usepackage[utf8x]{inputenc}\\\\usepackage[light]{kpfonts}',\n",
    "    }\n",
    ")\n",
    "\n",
    "import matplotlib.pyplot as plt\n",
    "import seaborn as sns\n",
    "import torch\n",
    "\n",
    "from sklearn.metrics import confusion_matrix, ConfusionMatrixDisplay\n",
    "from torch.utils.data import DataLoader\n",
    "\n",
    "import numpy as np\n",
    "import pandas as pd\n",
    "import torch\n",
    "\n",
    "from utils.train_utils import get_data, get_model"
   ]
  },
  {
   "cell_type": "code",
   "execution_count": 2,
   "id": "a67c3ce6-bc56-413e-ac16-d8197f04e771",
   "metadata": {},
   "outputs": [
    {
     "data": {
      "text/plain": [
       "(100, device(type='cuda', index=0))"
      ]
     },
     "execution_count": 2,
     "metadata": {},
     "output_type": "execute_result"
    }
   ],
   "source": [
    "## Simulate the args like in the `main_*.py` files\n",
    "class ARGS:\n",
    "    # federated arguments\n",
    "    # epochs:int = 1000         # rounds of training\n",
    "    epochs: int = 10  # rounds of training\n",
    "    train_test_same: int = 0  # use same testing for\n",
    "    num_users: int = 100  # number of users: K\n",
    "    shard_per_user: int = 2  # classes per user\n",
    "    frac: float = 0.1  # the fraction of clients: C\n",
    "    local_ep: int = 1  # the number of local epochs: E\n",
    "    local_bs: int = 10  # local batch size: B\n",
    "    bs: int = 128  # test batch size\n",
    "    lr: float = 0.01  # learning rate\n",
    "    # results_save:str = \"run1\"\n",
    "    momentum: float = 0.5  # SGD momentum (default: 0.5)\n",
    "    # gpu:int = 0\n",
    "    split: str = \"user\"  # train-test split type, user or sample\n",
    "    # grad_norm:str           # use_gradnorm_avging\n",
    "    local_ep_pretrain: int = 0  # the number of pretrain local ep\n",
    "    lr_decay: float = 1.0  # learning rate decay per round\n",
    "\n",
    "    # model arguments\n",
    "    model: str = \"cnn\"  # model name\n",
    "    kernel_num: int = 9  # number of each kind of kernel\n",
    "    kernel_sizes: str = \"3,4,5\"  # comma-separated kernel size to use for convolution\n",
    "    norm: str = \"batch_norm\"  # batch_norm, layer_norm, or None\n",
    "    num_filters: int = 32  # number of filters for conv nets\n",
    "    max_pool: str = True  # whether use max pooling rather than strided convolutions\n",
    "    num_layers_keep: int = 1  # number layers to keep\n",
    "\n",
    "    # other arguments\n",
    "    dataset: str = \"coba\"  # name of dataset\n",
    "    log_level: str = \"warning\"  # level of logger\n",
    "    iid: bool = True  # \"store_true\" #whether iid or not\n",
    "    num_classes: int = 14  # number of classes\n",
    "    num_channels: int = 3  # number of channels of images RGB\n",
    "    gpu: int = 0  # GPU ID, -1 for CPU\n",
    "    stopping_rounds: int = 10  # rounds of early stopping\n",
    "    verbose: bool = True  # \"store_true\"\n",
    "    print_freq: int = 100  # print loss frequency during training\n",
    "    seed: int = 1  # random seed (default:1)\n",
    "    test_freq: int = 1  # how often to test on val set\n",
    "    load_fed: str = \"\"  # define pretrained federated model path\n",
    "    results_save: str = \"run1\"  # define fed results save folder\n",
    "    start_saving: int = 0  # when to start saving models\n",
    "\n",
    "\n",
    "args = ARGS()\n",
    "\n",
    "args.device = torch.device(\n",
    "    \"cuda:{}\".format(args.gpu)\n",
    "    if torch.cuda.is_available() and args.gpu != -1\n",
    "    else \"cpu\"\n",
    ")\n",
    "\n",
    "args.num_users, args.device"
   ]
  },
  {
   "cell_type": "markdown",
   "id": "9ff0678e-c862-4e4a-ac92-91be50d14567",
   "metadata": {},
   "source": [
    "## CIFAR10"
   ]
  },
  {
   "cell_type": "code",
   "execution_count": 3,
   "id": "61e80ddf-9a38-425a-a2de-98b0ab947263",
   "metadata": {},
   "outputs": [],
   "source": [
    "args.dataset = \"cifar10\"\n",
    "args.iid = False\n",
    "args.model = \"cnn\"\n",
    "args.num_classes = 10\n",
    "# args.dataset = \"mnist\""
   ]
  },
  {
   "cell_type": "code",
   "execution_count": 4,
   "id": "37fa9730-49d2-4711-a324-cad7648bc048",
   "metadata": {},
   "outputs": [
    {
     "name": "stdout",
     "output_type": "stream",
     "text": [
      "Files already downloaded and verified\n",
      "Files already downloaded and verified\n",
      "CNNCifar(\n",
      "  (conv1): Conv2d(3, 6, kernel_size=(5, 5), stride=(1, 1))\n",
      "  (pool): MaxPool2d(kernel_size=2, stride=2, padding=0, dilation=1, ceil_mode=False)\n",
      "  (conv2): Conv2d(6, 16, kernel_size=(5, 5), stride=(1, 1))\n",
      "  (fc1): Linear(in_features=400, out_features=120, bias=True)\n",
      "  (fc2): Linear(in_features=120, out_features=100, bias=True)\n",
      "  (fc3): Linear(in_features=100, out_features=10, bias=True)\n",
      ")\n"
     ]
    },
    {
     "data": {
      "text/plain": [
       "<All keys matched successfully>"
      ]
     },
     "execution_count": 4,
     "metadata": {},
     "output_type": "execute_result"
    }
   ],
   "source": [
    "dataset_train, dataset_test, dict_users_train, dict_users_test = get_data(args)\n",
    "\n",
    "model = get_model(args)\n",
    "\n",
    "model_state_dict_path: str = Path(\n",
    "    \"../save\",\n",
    "    args.dataset,\n",
    "    \"cnn_iidFalse_num100_C0.3_le1\",\n",
    "    \"shard2\",\n",
    "    \"seed10_cifar10_fedavg_bestcase_run1\",\n",
    "    \"fed\",\n",
    "    \"model_1000.pt\",\n",
    ")\n",
    "\n",
    "model.load_state_dict(\n",
    "    torch.load(model_state_dict_path)\n",
    ") if args.device.type != \"cpu\" else model.load_state_dict(\n",
    "    torch.load(model_state_dict_path, map_location=torch.device(\"cpu\"))\n",
    ")"
   ]
  },
  {
   "cell_type": "code",
   "execution_count": 5,
   "id": "e0e9d075-fce4-472a-a343-7219c09e6967",
   "metadata": {},
   "outputs": [
    {
     "data": {
      "text/plain": [
       "True"
      ]
     },
     "execution_count": 5,
     "metadata": {},
     "output_type": "execute_result"
    }
   ],
   "source": [
    "data_loader: DataLoader = DataLoader(dataset_test, batch_size=args.bs)\n",
    "IS_USING_GPU: bool = args.gpu != -1 and args.device.type != \"cpu\"\n",
    "\n",
    "y_preds: np.array = np.array([])\n",
    "y_trues: np.array = np.array([])\n",
    "# coba_cms = []\n",
    "\n",
    "for _, (data, target) in enumerate(data_loader):\n",
    "    if args.gpu != -1 and args.device.type != \"cpu\":\n",
    "        data, target = data.to(args.device), target.to(args.device)\n",
    "    if args.dataset == \"coba\":\n",
    "        data = data.permute(0, 3, 1, 2)\n",
    "\n",
    "    log_probs: torch.Tensor = model(data)\n",
    "\n",
    "    y_pred: torch.Tensor = (\n",
    "        log_probs.cpu().data.max(1, keepdim=True)[1]\n",
    "        if args.device.type != \"cpu\"\n",
    "        else log_probs.data.max(1, keepdim=True)[1]\n",
    "    )\n",
    "\n",
    "    y_true: torch.Tensor = (\n",
    "        torch.tensor(list(map(torch.argmax, target.data)), device=\"cpu\").data.view_as(\n",
    "            y_pred\n",
    "        )\n",
    "        if args.dataset == \"coba\"\n",
    "        else target.to(\"cpu\").data.view_as(y_pred)\n",
    "    )\n",
    "\n",
    "    # coba_cms.append(confusion_matrix(y_pred=y_pred,y_true=y_true))\n",
    "\n",
    "    y_preds = np.append(y_preds, y_pred)\n",
    "    y_trues = np.append(y_trues, y_true)\n",
    "\n",
    "y_preds.shape == y_trues.shape"
   ]
  },
  {
   "cell_type": "code",
   "execution_count": 7,
   "id": "fc2cf0c2-2541-4923-b279-4a330fdd66d2",
   "metadata": {},
   "outputs": [
    {
     "name": "stdout",
     "output_type": "stream",
     "text": [
      "{'airplane': 0, 'automobile': 1, 'bird': 2, 'cat': 3, 'deer': 4, 'dog': 5, 'frog': 6, 'horse': 7, 'ship': 8, 'truck': 9}\n"
     ]
    }
   ],
   "source": [
    "CUSTOM_COLORBAR: bool = True\n",
    "plt.clf()\n",
    "\n",
    "cm = confusion_matrix(y_pred=y_preds, y_true=y_trues)\n",
    "disp = ConfusionMatrixDisplay(\n",
    "    confusion_matrix=cm,\n",
    "    display_labels=[obj_name for obj_name in dataset_train.class_to_idx.keys()],\n",
    ")\n",
    "# fig, ax = plt.subplots(figsize=(10,10))\n",
    "# fig, ax = plt.subplots(figsize=(8,8))\n",
    "fig, ax = plt.subplots(figsize=(7, 7))\n",
    "\n",
    "ax.set_title(f\"{args.dataset.upper()} Confusion Matrix\", fontsize=18)\n",
    "ax.tick_params(axis=\"both\", labelsize=14)\n",
    "ax.set_xlabel(\"Predicted label\", fontsize=15)\n",
    "ax.set_ylabel(\"True label\", fontsize=15)\n",
    "\n",
    "if CUSTOM_COLORBAR:\n",
    "    # Plot Confusion Matrix default colorbar\n",
    "    disp.plot(ax=ax, xticks_rotation=\"vertical\", colorbar=False)\n",
    "\n",
    "    # Adding custom colorbar\n",
    "    cax = fig.add_axes(\n",
    "        [\n",
    "            ax.get_position().x1 + 0.01,\n",
    "            ax.get_position().y0,\n",
    "            0.02,\n",
    "            ax.get_position().height,\n",
    "        ]\n",
    "    )\n",
    "    plt.colorbar(disp.im_, cax=cax)\n",
    "else:\n",
    "    disp.plot(ax=ax, xticks_rotation=\"vertical\")\n",
    "    plt.tight_layout()\n",
    "\n",
    "print(dataset_train.class_to_idx)\n",
    "# plt.savefig(\"coba_confusion_matrix_example.png\")\n",
    "\n",
    "save_dir: Path = Path(Path.cwd(), args.dataset)\n",
    "save_dir.mkdir(exist_ok=True, parents=True)\n",
    "plt.savefig(\n",
    "    Path(save_dir, f\"{args.dataset}_confusion_matrix_example.pdf\"),\n",
    "    # format=\"pdf\",\n",
    "    bbox_inches=\"tight\",\n",
    "    dpi=300,\n",
    ")"
   ]
  },
  {
   "cell_type": "markdown",
   "id": "d1a9d1ca-6cb7-4dfd-9b63-c63c87e5bb16",
   "metadata": {
    "jp-MarkdownHeadingCollapsed": true
   },
   "source": [
    "### Check Data Distribution"
   ]
  },
  {
   "cell_type": "code",
   "execution_count": 48,
   "id": "430133b9-28c9-4bfb-b32f-41c5f55f78a8",
   "metadata": {},
   "outputs": [
    {
     "data": {
      "text/plain": [
       "(['airplane',\n",
       "  'automobile',\n",
       "  'bird',\n",
       "  'cat',\n",
       "  'deer',\n",
       "  'dog',\n",
       "  'frog',\n",
       "  'horse',\n",
       "  'ship',\n",
       "  'truck'],\n",
       " array([1000, 1000, 1000, 1000, 1000, 1000, 1000, 1000, 1000, 1000]))"
      ]
     },
     "execution_count": 48,
     "metadata": {},
     "output_type": "execute_result"
    }
   ],
   "source": [
    "# class_map:Dict[int,str] = dataset_test.class_to_idx\n",
    "# class_map:List[int] = list(dataset_test.class_to_idx.values())\n",
    "class_map: Dict[str, int] = dataset_test.class_to_idx\n",
    "classes_as_ints: List[int] = [label for _, label in dataset_test]\n",
    "class_indices, class_counts = np.unique(classes_as_ints, return_counts=True)\n",
    "class_indices_to_string: List[str] = []\n",
    "for index in class_indices:\n",
    "    for class_name, val in class_map.items():\n",
    "        if index == val:\n",
    "            class_indices_to_string.append(class_name)\n",
    "            break\n",
    "\n",
    "class_indices_to_string, class_counts\n",
    "# class_map\n",
    "# for _, label in dataset_test:\n",
    "#     print(label)\n",
    "#     break"
   ]
  },
  {
   "cell_type": "markdown",
   "id": "09d008c8-dac1-4f01-8076-4dc6540b0566",
   "metadata": {},
   "source": [
    "## MNIST"
   ]
  },
  {
   "cell_type": "code",
   "execution_count": 8,
   "id": "5e5de91e-7e1e-4b6e-83f0-9d8b23fae7e7",
   "metadata": {},
   "outputs": [],
   "source": [
    "args.dataset = \"mnist\"\n",
    "args.iid = False\n",
    "args.model = \"mlp\"\n",
    "args.num_classes = 10\n",
    "# args.dataset = \"mnist\""
   ]
  },
  {
   "cell_type": "code",
   "execution_count": 9,
   "id": "0fbd4d24-0c7e-4f8d-a661-5c8293d533ad",
   "metadata": {},
   "outputs": [
    {
     "name": "stdout",
     "output_type": "stream",
     "text": [
      "MLP(\n",
      "  (layer_input): Linear(in_features=784, out_features=512, bias=True)\n",
      "  (relu): ReLU()\n",
      "  (dropout): Dropout(p=0.5, inplace=False)\n",
      "  (layer_hidden1): Linear(in_features=512, out_features=256, bias=True)\n",
      "  (layer_hidden2): Linear(in_features=256, out_features=256, bias=True)\n",
      "  (layer_hidden3): Linear(in_features=256, out_features=128, bias=True)\n",
      "  (layer_out): Linear(in_features=128, out_features=10, bias=True)\n",
      "  (softmax): Softmax(dim=1)\n",
      ")\n"
     ]
    },
    {
     "data": {
      "text/plain": [
       "<All keys matched successfully>"
      ]
     },
     "execution_count": 9,
     "metadata": {},
     "output_type": "execute_result"
    }
   ],
   "source": [
    "dataset_train, dataset_test, dict_users_train, dict_users_test = get_data(args)\n",
    "\n",
    "model = get_model(args)\n",
    "\n",
    "model_state_dict_path: str = Path(\n",
    "    \"../save\",\n",
    "    args.dataset,\n",
    "    \"mlp_iidFalse_num100_C0.3_le1\",\n",
    "    \"shard2\",\n",
    "    \"seed0_mnist_fedavg_bestcase_run1\",\n",
    "    \"fed\",\n",
    "    \"model_1000.pt\",\n",
    ")\n",
    "\n",
    "model.load_state_dict(\n",
    "    torch.load(model_state_dict_path)\n",
    ") if args.device.type != \"cpu\" else model.load_state_dict(\n",
    "    torch.load(model_state_dict_path, map_location=torch.device(\"cpu\"))\n",
    ")"
   ]
  },
  {
   "cell_type": "code",
   "execution_count": 10,
   "id": "36195c41-cd0c-4fe3-b405-5a0acc4f8601",
   "metadata": {},
   "outputs": [
    {
     "data": {
      "text/plain": [
       "True"
      ]
     },
     "execution_count": 10,
     "metadata": {},
     "output_type": "execute_result"
    }
   ],
   "source": [
    "data_loader: DataLoader = DataLoader(dataset_test, batch_size=args.bs)\n",
    "IS_USING_GPU: bool = args.gpu != -1 and args.device.type != \"cpu\"\n",
    "\n",
    "y_preds: np.array = np.array([])\n",
    "y_trues: np.array = np.array([])\n",
    "# coba_cms = []\n",
    "\n",
    "for _, (data, target) in enumerate(data_loader):\n",
    "    if args.gpu != -1 and args.device.type != \"cpu\":\n",
    "        data, target = data.to(args.device), target.to(args.device)\n",
    "    if args.dataset == \"coba\":\n",
    "        data = data.permute(0, 3, 1, 2)\n",
    "\n",
    "    log_probs: torch.Tensor = model(data)\n",
    "\n",
    "    y_pred: torch.Tensor = (\n",
    "        log_probs.cpu().data.max(1, keepdim=True)[1]\n",
    "        if args.device.type != \"cpu\"\n",
    "        else log_probs.data.max(1, keepdim=True)[1]\n",
    "    )\n",
    "\n",
    "    y_true: torch.Tensor = (\n",
    "        torch.tensor(list(map(torch.argmax, target.data)), device=\"cpu\").data.view_as(\n",
    "            y_pred\n",
    "        )\n",
    "        if args.dataset == \"coba\"\n",
    "        else target.to(\"cpu\").data.view_as(y_pred)\n",
    "    )\n",
    "\n",
    "    # coba_cms.append(confusion_matrix(y_pred=y_pred,y_true=y_true))\n",
    "\n",
    "    y_preds = np.append(y_preds, y_pred)\n",
    "    y_trues = np.append(y_trues, y_true)\n",
    "\n",
    "y_preds.shape == y_trues.shape"
   ]
  },
  {
   "cell_type": "code",
   "execution_count": 11,
   "id": "0cc94914-3ad4-4096-ba95-b1a280a3edea",
   "metadata": {},
   "outputs": [
    {
     "name": "stdout",
     "output_type": "stream",
     "text": [
      "{'0 - zero': 0, '1 - one': 1, '2 - two': 2, '3 - three': 3, '4 - four': 4, '5 - five': 5, '6 - six': 6, '7 - seven': 7, '8 - eight': 8, '9 - nine': 9}\n"
     ]
    }
   ],
   "source": [
    "CUSTOM_COLORBAR: bool = True\n",
    "plt.clf()\n",
    "\n",
    "cm = confusion_matrix(y_pred=y_preds, y_true=y_trues)\n",
    "disp = ConfusionMatrixDisplay(\n",
    "    confusion_matrix=cm,\n",
    "    display_labels=[obj_name for obj_name in dataset_train.class_to_idx.keys()],\n",
    ")\n",
    "# fig, ax = plt.subplots(figsize=(10,10))\n",
    "# fig, ax = plt.subplots(figsize=(8,8))\n",
    "fig, ax = plt.subplots(figsize=(7, 7))\n",
    "\n",
    "ax.set_title(f\"{args.dataset.upper()} Confusion Matrix\", fontsize=18)\n",
    "ax.tick_params(axis=\"both\", labelsize=14)\n",
    "ax.set_xlabel(\"Predicted label\", fontsize=15)\n",
    "ax.set_ylabel(\"True label\", fontsize=15)\n",
    "\n",
    "if CUSTOM_COLORBAR:\n",
    "    # Plot Confusion Matrix default colorbar\n",
    "    disp.plot(ax=ax, xticks_rotation=\"vertical\", colorbar=False)\n",
    "\n",
    "    # Adding custom colorbar\n",
    "    cax = fig.add_axes(\n",
    "        [\n",
    "            ax.get_position().x1 + 0.01,\n",
    "            ax.get_position().y0,\n",
    "            0.02,\n",
    "            ax.get_position().height,\n",
    "        ]\n",
    "    )\n",
    "    plt.colorbar(disp.im_, cax=cax)\n",
    "else:\n",
    "    disp.plot(ax=ax, xticks_rotation=\"vertical\")\n",
    "    plt.tight_layout()\n",
    "\n",
    "print(dataset_train.class_to_idx)\n",
    "# plt.savefig(\"coba_confusion_matrix_example.png\")\n",
    "\n",
    "save_dir: Path = Path(Path.cwd(), args.dataset)\n",
    "save_dir.mkdir(exist_ok=True, parents=True)\n",
    "\n",
    "plt.savefig(\n",
    "    Path(save_dir, f\"{args.dataset}_confusion_matrix_example.pdf\"),\n",
    "    # format=\"pdf\",\n",
    "    bbox_inches=\"tight\",\n",
    "    dpi=300,\n",
    ")"
   ]
  },
  {
   "cell_type": "markdown",
   "id": "f5fe1dfc-b950-423d-b7f8-6cea6ac303a7",
   "metadata": {},
   "source": [
    "### Check Data Distribution"
   ]
  },
  {
   "cell_type": "code",
   "execution_count": 52,
   "id": "5e689ead-e2e1-4b93-b228-bf9084a3eaeb",
   "metadata": {},
   "outputs": [
    {
     "data": {
      "text/plain": [
       "(['0 - zero',\n",
       "  '1 - one',\n",
       "  '2 - two',\n",
       "  '3 - three',\n",
       "  '4 - four',\n",
       "  '5 - five',\n",
       "  '6 - six',\n",
       "  '7 - seven',\n",
       "  '8 - eight',\n",
       "  '9 - nine'],\n",
       " array([ 980, 1135, 1032, 1010,  982,  892,  958, 1028,  974, 1009]))"
      ]
     },
     "execution_count": 52,
     "metadata": {},
     "output_type": "execute_result"
    }
   ],
   "source": [
    "class_map: Dict[str, int] = dataset_test.class_to_idx\n",
    "classes_as_ints: List[int] = [label for _, label in dataset_test]\n",
    "class_indices, class_counts = np.unique(classes_as_ints, return_counts=True)\n",
    "class_indices_to_string: List[str] = []\n",
    "for index in class_indices:\n",
    "    for class_name, val in class_map.items():\n",
    "        if index == val:\n",
    "            class_indices_to_string.append(class_name)\n",
    "            break\n",
    "\n",
    "class_indices_to_string, class_counts"
   ]
  },
  {
   "cell_type": "markdown",
   "id": "8edd19dd-b75e-490e-826d-2d373a7da82b",
   "metadata": {},
   "source": [
    "## COBA"
   ]
  },
  {
   "cell_type": "code",
   "execution_count": 12,
   "id": "af04194f-defe-4d2a-99bc-ff7bb04a77e3",
   "metadata": {},
   "outputs": [],
   "source": [
    "args.dataset = \"coba\"\n",
    "args.num_users = 98\n",
    "args.iid = False\n",
    "args.model = \"cnn\"\n",
    "args.num_classes = 14\n",
    "# args.dataset = \"mnist\""
   ]
  },
  {
   "cell_type": "code",
   "execution_count": 13,
   "id": "b28ae846-6890-4081-b9ca-29b60a76a337",
   "metadata": {},
   "outputs": [
    {
     "name": "stdout",
     "output_type": "stream",
     "text": [
      "CNNCoba(\n",
      "  (layers): Sequential(\n",
      "    (0): Conv2d(3, 16, kernel_size=(3, 3), stride=(1, 1), padding=same)\n",
      "    (1): ReLU()\n",
      "    (2): MaxPool2d(kernel_size=2, stride=2, padding=0, dilation=1, ceil_mode=False)\n",
      "    (3): Flatten(start_dim=1, end_dim=-1)\n",
      "    (4): Linear(in_features=65536, out_features=50, bias=True)\n",
      "    (5): ReLU()\n",
      "    (6): Linear(in_features=50, out_features=14, bias=True)\n",
      "    (7): LogSoftmax(dim=1)\n",
      "  )\n",
      ")\n"
     ]
    },
    {
     "data": {
      "text/plain": [
       "<All keys matched successfully>"
      ]
     },
     "execution_count": 13,
     "metadata": {},
     "output_type": "execute_result"
    }
   ],
   "source": [
    "dataset_train, dataset_test, dict_users_train, dict_users_test = get_data(args)\n",
    "\n",
    "model = get_model(args)\n",
    "\n",
    "model_state_dict_path: str = Path(\n",
    "    \"../save\",\n",
    "    \"coba_legacy\",\n",
    "    \"cnn_iidFalse_num98_C0.3_le1\",\n",
    "    \"shard2\",\n",
    "    \"seed7_coba_fedavg_bestcase_run9\",\n",
    "    \"fed\",\n",
    "    \"model_1000.pt\",\n",
    ")\n",
    "\n",
    "model.load_state_dict(\n",
    "    torch.load(model_state_dict_path)\n",
    ") if args.device.type != \"cpu\" else model.load_state_dict(\n",
    "    torch.load(model_state_dict_path, map_location=torch.device(\"cpu\"))\n",
    ")"
   ]
  },
  {
   "cell_type": "code",
   "execution_count": 14,
   "id": "1ebb1a92-5858-4759-8c8f-583777bbec8d",
   "metadata": {},
   "outputs": [
    {
     "data": {
      "text/plain": [
       "True"
      ]
     },
     "execution_count": 14,
     "metadata": {},
     "output_type": "execute_result"
    }
   ],
   "source": [
    "data_loader: DataLoader = DataLoader(dataset_test, batch_size=args.bs)\n",
    "IS_USING_GPU: bool = args.gpu != -1 and args.device.type != \"cpu\"\n",
    "\n",
    "y_preds: np.array = np.array([])\n",
    "y_trues: np.array = np.array([])\n",
    "# coba_cms = []\n",
    "\n",
    "for _, (data, target) in enumerate(data_loader):\n",
    "    if args.gpu != -1 and args.device.type != \"cpu\":\n",
    "        data, target = data.to(args.device), target.to(args.device)\n",
    "    if args.dataset == \"coba\":\n",
    "        data = data.permute(0, 3, 1, 2)\n",
    "\n",
    "    log_probs: torch.Tensor = model(data)\n",
    "\n",
    "    y_pred: torch.Tensor = (\n",
    "        log_probs.cpu().data.max(1, keepdim=True)[1]\n",
    "        if args.device.type != \"cpu\"\n",
    "        else log_probs.data.max(1, keepdim=True)[1]\n",
    "    )\n",
    "\n",
    "    y_true: torch.Tensor = (\n",
    "        torch.tensor(list(map(torch.argmax, target.data)), device=\"cpu\").data.view_as(\n",
    "            y_pred\n",
    "        )\n",
    "        if args.dataset == \"coba\"\n",
    "        else target.to(\"cpu\").data.view_as(y_pred)\n",
    "    )\n",
    "\n",
    "    # coba_cms.append(confusion_matrix(y_pred=y_pred,y_true=y_true))\n",
    "\n",
    "    y_preds = np.append(y_preds, y_pred)\n",
    "    y_trues = np.append(y_trues, y_true)\n",
    "\n",
    "y_preds.shape == y_trues.shape"
   ]
  },
  {
   "cell_type": "code",
   "execution_count": 15,
   "id": "74326ece-b1ed-4cf5-85bf-94936fa823c4",
   "metadata": {},
   "outputs": [
    {
     "name": "stdout",
     "output_type": "stream",
     "text": [
      "{0: 'airplane', 1: 'ambulance', 2: 'briefcase', 3: 'cannon', 4: 'car', 5: 'civilian', 6: 'dagger', 7: 'dog', 8: 'handgun', 9: 'missilerocket', 10: 'rifle', 11: 'soldier', 12: 'tank', 13: 'truck'}\n"
     ]
    }
   ],
   "source": [
    "CUSTOM_COLORBAR: bool = True\n",
    "plt.clf()\n",
    "\n",
    "cm = confusion_matrix(y_pred=y_preds, y_true=y_trues)\n",
    "disp = ConfusionMatrixDisplay(\n",
    "    confusion_matrix=cm,\n",
    "    display_labels=[obj_name for obj_name in dataset_train.class_to_idx.values()],\n",
    ")\n",
    "# fig, ax = plt.subplots(figsize=(10,10))\n",
    "# fig, ax = plt.subplots(figsize=(8,8))\n",
    "fig, ax = plt.subplots(figsize=(7, 7))\n",
    "\n",
    "ax.set_title(f\"{args.dataset.upper()} Confusion Matrix\", fontsize=18)\n",
    "ax.tick_params(axis=\"both\", labelsize=14)\n",
    "ax.set_xlabel(\"Predicted label\", fontsize=15)\n",
    "ax.set_ylabel(\"True label\", fontsize=15)\n",
    "\n",
    "if CUSTOM_COLORBAR:\n",
    "    # Plot Confusion Matrix default colorbar\n",
    "    disp.plot(ax=ax, xticks_rotation=\"vertical\", colorbar=False)\n",
    "\n",
    "    # Adding custom colorbar\n",
    "    cax = fig.add_axes(\n",
    "        [\n",
    "            ax.get_position().x1 + 0.01,\n",
    "            ax.get_position().y0,\n",
    "            0.02,\n",
    "            ax.get_position().height,\n",
    "        ]\n",
    "    )\n",
    "    plt.colorbar(disp.im_, cax=cax)\n",
    "else:\n",
    "    disp.plot(ax=ax, xticks_rotation=\"vertical\")\n",
    "    plt.tight_layout()\n",
    "\n",
    "print(dataset_train.class_to_idx)\n",
    "# plt.savefig(\"coba_confusion_matrix_example.png\")\n",
    "\n",
    "save_dir: Path = Path(Path.cwd(), args.dataset)\n",
    "save_dir.mkdir(exist_ok=True, parents=True)\n",
    "\n",
    "plt.savefig(\n",
    "    Path(save_dir, f\"{args.dataset}_confusion_matrix_example.pdf\"),\n",
    "    # format=\"pdf\",\n",
    "    bbox_inches=\"tight\",\n",
    "    dpi=300,\n",
    ")"
   ]
  },
  {
   "cell_type": "markdown",
   "id": "7bd17583-51e3-4871-98c9-fd547f3fdb90",
   "metadata": {},
   "source": [
    "### Check Data Distribution"
   ]
  },
  {
   "cell_type": "code",
   "execution_count": 58,
   "id": "67333a0b-169b-40a7-b475-326c95221c02",
   "metadata": {},
   "outputs": [
    {
     "data": {
      "text/plain": [
       "{'airplane': 592,\n",
       " 'ambulance': 265,\n",
       " 'briefcase': 175,\n",
       " 'cannon': 293,\n",
       " 'car': 1031,\n",
       " 'civilian': 2748,\n",
       " 'dagger': 199,\n",
       " 'dog': 619,\n",
       " 'handgun': 283,\n",
       " 'missilerocket': 266,\n",
       " 'rifle': 587,\n",
       " 'soldier': 640,\n",
       " 'tank': 395,\n",
       " 'truck': 715}"
      ]
     },
     "execution_count": 58,
     "metadata": {},
     "output_type": "execute_result"
    }
   ],
   "source": [
    "class_map: Dict[int, str] = dataset_test.class_to_idx\n",
    "classes_as_ints: List[int] = [label.argmax().item() for _, label in dataset_test]\n",
    "\n",
    "# for img,label in coba_dataset:\n",
    "#     class_index:int = label.argmax().item()\n",
    "#     classes_as_ints.append(class_index)\n",
    "# print(class_map[class_index])\n",
    "# plt.imshow(img)\n",
    "\n",
    "class_indices, class_counts = np.unique(classes_as_ints, return_counts=True)\n",
    "\n",
    "coba_class_counts: Dict[str, int] = {\n",
    "    class_map[class_index]: class_count\n",
    "    for class_index, class_count in zip(class_indices, class_counts)\n",
    "}\n",
    "\n",
    "coba_class_counts"
   ]
  },
  {
   "cell_type": "markdown",
   "id": "78fcf217-6044-418a-a458-d1113a29e7b4",
   "metadata": {
    "jp-MarkdownHeadingCollapsed": true
   },
   "source": [
    "## Visualize Results (COBA)"
   ]
  },
  {
   "cell_type": "code",
   "execution_count": 9,
   "id": "0cf80900-9682-423a-b633-89a930c7abd8",
   "metadata": {},
   "outputs": [
    {
     "data": {
      "text/html": [
       "<div>\n",
       "<style scoped>\n",
       "    .dataframe tbody tr th:only-of-type {\n",
       "        vertical-align: middle;\n",
       "    }\n",
       "\n",
       "    .dataframe tbody tr th {\n",
       "        vertical-align: top;\n",
       "    }\n",
       "\n",
       "    .dataframe thead th {\n",
       "        text-align: right;\n",
       "    }\n",
       "</style>\n",
       "<table border=\"1\" class=\"dataframe\">\n",
       "  <thead>\n",
       "    <tr style=\"text-align: right;\">\n",
       "      <th></th>\n",
       "      <th>epoch</th>\n",
       "      <th>loss_avg</th>\n",
       "      <th>loss_test</th>\n",
       "      <th>acc_test</th>\n",
       "      <th>f1_test</th>\n",
       "      <th>precision_test</th>\n",
       "      <th>recall_test</th>\n",
       "      <th>best_acc</th>\n",
       "    </tr>\n",
       "  </thead>\n",
       "  <tbody>\n",
       "    <tr>\n",
       "      <th>0</th>\n",
       "      <td>0.0</td>\n",
       "      <td>5.030172</td>\n",
       "      <td>2.588678</td>\n",
       "      <td>31.198910</td>\n",
       "      <td>0.117578</td>\n",
       "      <td>0.077729</td>\n",
       "      <td>0.244540</td>\n",
       "      <td>31.198910</td>\n",
       "    </tr>\n",
       "    <tr>\n",
       "      <th>1</th>\n",
       "      <td>1.0</td>\n",
       "      <td>2.226245</td>\n",
       "      <td>2.509014</td>\n",
       "      <td>31.198910</td>\n",
       "      <td>0.117578</td>\n",
       "      <td>0.077729</td>\n",
       "      <td>0.244540</td>\n",
       "      <td>31.198910</td>\n",
       "    </tr>\n",
       "    <tr>\n",
       "      <th>2</th>\n",
       "      <td>2.0</td>\n",
       "      <td>2.381672</td>\n",
       "      <td>2.464465</td>\n",
       "      <td>31.198910</td>\n",
       "      <td>0.117578</td>\n",
       "      <td>0.077729</td>\n",
       "      <td>0.244540</td>\n",
       "      <td>31.198910</td>\n",
       "    </tr>\n",
       "    <tr>\n",
       "      <th>3</th>\n",
       "      <td>3.0</td>\n",
       "      <td>2.231263</td>\n",
       "      <td>2.430133</td>\n",
       "      <td>31.198910</td>\n",
       "      <td>0.117578</td>\n",
       "      <td>0.077729</td>\n",
       "      <td>0.244540</td>\n",
       "      <td>31.198910</td>\n",
       "    </tr>\n",
       "    <tr>\n",
       "      <th>4</th>\n",
       "      <td>4.0</td>\n",
       "      <td>2.143696</td>\n",
       "      <td>2.397084</td>\n",
       "      <td>31.198910</td>\n",
       "      <td>0.117578</td>\n",
       "      <td>0.077729</td>\n",
       "      <td>0.244540</td>\n",
       "      <td>31.198910</td>\n",
       "    </tr>\n",
       "    <tr>\n",
       "      <th>...</th>\n",
       "      <td>...</td>\n",
       "      <td>...</td>\n",
       "      <td>...</td>\n",
       "      <td>...</td>\n",
       "      <td>...</td>\n",
       "      <td>...</td>\n",
       "      <td>...</td>\n",
       "      <td>...</td>\n",
       "    </tr>\n",
       "    <tr>\n",
       "      <th>995</th>\n",
       "      <td>995.0</td>\n",
       "      <td>0.011996</td>\n",
       "      <td>0.046857</td>\n",
       "      <td>99.125795</td>\n",
       "      <td>0.776697</td>\n",
       "      <td>0.777504</td>\n",
       "      <td>0.776529</td>\n",
       "      <td>99.920527</td>\n",
       "    </tr>\n",
       "    <tr>\n",
       "      <th>996</th>\n",
       "      <td>996.0</td>\n",
       "      <td>0.008189</td>\n",
       "      <td>0.039337</td>\n",
       "      <td>99.330154</td>\n",
       "      <td>0.778235</td>\n",
       "      <td>0.778837</td>\n",
       "      <td>0.778105</td>\n",
       "      <td>99.920527</td>\n",
       "    </tr>\n",
       "    <tr>\n",
       "      <th>997</th>\n",
       "      <td>997.0</td>\n",
       "      <td>0.092336</td>\n",
       "      <td>0.086895</td>\n",
       "      <td>98.001817</td>\n",
       "      <td>0.767457</td>\n",
       "      <td>0.768901</td>\n",
       "      <td>0.767686</td>\n",
       "      <td>99.920527</td>\n",
       "    </tr>\n",
       "    <tr>\n",
       "      <th>998</th>\n",
       "      <td>998.0</td>\n",
       "      <td>0.038456</td>\n",
       "      <td>0.067097</td>\n",
       "      <td>98.694369</td>\n",
       "      <td>0.773439</td>\n",
       "      <td>0.774820</td>\n",
       "      <td>0.773138</td>\n",
       "      <td>99.920527</td>\n",
       "    </tr>\n",
       "    <tr>\n",
       "      <th>999</th>\n",
       "      <td>999.0</td>\n",
       "      <td>0.014340</td>\n",
       "      <td>0.037825</td>\n",
       "      <td>99.545867</td>\n",
       "      <td>0.779881</td>\n",
       "      <td>0.780232</td>\n",
       "      <td>0.779810</td>\n",
       "      <td>99.920527</td>\n",
       "    </tr>\n",
       "  </tbody>\n",
       "</table>\n",
       "<p>1000 rows × 8 columns</p>\n",
       "</div>"
      ],
      "text/plain": [
       "     epoch  loss_avg  loss_test   acc_test   f1_test  precision_test  \\\n",
       "0      0.0  5.030172   2.588678  31.198910  0.117578        0.077729   \n",
       "1      1.0  2.226245   2.509014  31.198910  0.117578        0.077729   \n",
       "2      2.0  2.381672   2.464465  31.198910  0.117578        0.077729   \n",
       "3      3.0  2.231263   2.430133  31.198910  0.117578        0.077729   \n",
       "4      4.0  2.143696   2.397084  31.198910  0.117578        0.077729   \n",
       "..     ...       ...        ...        ...       ...             ...   \n",
       "995  995.0  0.011996   0.046857  99.125795  0.776697        0.777504   \n",
       "996  996.0  0.008189   0.039337  99.330154  0.778235        0.778837   \n",
       "997  997.0  0.092336   0.086895  98.001817  0.767457        0.768901   \n",
       "998  998.0  0.038456   0.067097  98.694369  0.773439        0.774820   \n",
       "999  999.0  0.014340   0.037825  99.545867  0.779881        0.780232   \n",
       "\n",
       "     recall_test   best_acc  \n",
       "0       0.244540  31.198910  \n",
       "1       0.244540  31.198910  \n",
       "2       0.244540  31.198910  \n",
       "3       0.244540  31.198910  \n",
       "4       0.244540  31.198910  \n",
       "..           ...        ...  \n",
       "995     0.776529  99.920527  \n",
       "996     0.778105  99.920527  \n",
       "997     0.767686  99.920527  \n",
       "998     0.773138  99.920527  \n",
       "999     0.779810  99.920527  \n",
       "\n",
       "[1000 rows x 8 columns]"
      ]
     },
     "execution_count": 9,
     "metadata": {},
     "output_type": "execute_result"
    }
   ],
   "source": [
    "coba_results_path: str = Path(\n",
    "    \"../save\",\n",
    "    \"coba_legacy\",\n",
    "    \"cnn_iidFalse_num98_C0.3_le1\",\n",
    "    \"shard2\",\n",
    "    \"seed10_coba_fedavg_bestcase_run12\",\n",
    "    \"fed\",\n",
    "    \"results.csv\",\n",
    ")\n",
    "coba_results_df: pd.DataFrame = pd.read_csv(coba_results_path, delimiter=\",\")\n",
    "coba_results_df"
   ]
  },
  {
   "cell_type": "code",
   "execution_count": 10,
   "id": "051be2ed-6dfe-4753-a8a6-1fe48d8a7324",
   "metadata": {},
   "outputs": [
    {
     "data": {
      "text/html": [
       "<div>\n",
       "<style scoped>\n",
       "    .dataframe tbody tr th:only-of-type {\n",
       "        vertical-align: middle;\n",
       "    }\n",
       "\n",
       "    .dataframe tbody tr th {\n",
       "        vertical-align: top;\n",
       "    }\n",
       "\n",
       "    .dataframe thead th {\n",
       "        text-align: right;\n",
       "    }\n",
       "</style>\n",
       "<table border=\"1\" class=\"dataframe\">\n",
       "  <thead>\n",
       "    <tr style=\"text-align: right;\">\n",
       "      <th></th>\n",
       "      <th>epoch</th>\n",
       "      <th>loss_avg</th>\n",
       "      <th>loss_test</th>\n",
       "      <th>acc_test</th>\n",
       "      <th>f1_test</th>\n",
       "      <th>precision_test</th>\n",
       "      <th>recall_test</th>\n",
       "      <th>best_acc</th>\n",
       "    </tr>\n",
       "  </thead>\n",
       "  <tbody>\n",
       "    <tr>\n",
       "      <th>count</th>\n",
       "      <td>1000.000000</td>\n",
       "      <td>1000.000000</td>\n",
       "      <td>1000.000000</td>\n",
       "      <td>1000.000000</td>\n",
       "      <td>1000.000000</td>\n",
       "      <td>1000.000000</td>\n",
       "      <td>1000.000000</td>\n",
       "      <td>1000.000000</td>\n",
       "    </tr>\n",
       "    <tr>\n",
       "      <th>mean</th>\n",
       "      <td>499.500000</td>\n",
       "      <td>0.345473</td>\n",
       "      <td>0.863734</td>\n",
       "      <td>71.569267</td>\n",
       "      <td>0.553706</td>\n",
       "      <td>0.590254</td>\n",
       "      <td>0.560634</td>\n",
       "      <td>75.217711</td>\n",
       "    </tr>\n",
       "    <tr>\n",
       "      <th>std</th>\n",
       "      <td>288.819436</td>\n",
       "      <td>0.746869</td>\n",
       "      <td>0.831901</td>\n",
       "      <td>28.084318</td>\n",
       "      <td>0.230352</td>\n",
       "      <td>0.201873</td>\n",
       "      <td>0.219981</td>\n",
       "      <td>25.249273</td>\n",
       "    </tr>\n",
       "    <tr>\n",
       "      <th>min</th>\n",
       "      <td>0.000000</td>\n",
       "      <td>0.002734</td>\n",
       "      <td>0.011604</td>\n",
       "      <td>9.230245</td>\n",
       "      <td>0.025715</td>\n",
       "      <td>0.027763</td>\n",
       "      <td>0.072275</td>\n",
       "      <td>31.198910</td>\n",
       "    </tr>\n",
       "    <tr>\n",
       "      <th>25%</th>\n",
       "      <td>249.750000</td>\n",
       "      <td>0.024524</td>\n",
       "      <td>0.084107</td>\n",
       "      <td>41.885218</td>\n",
       "      <td>0.323443</td>\n",
       "      <td>0.416577</td>\n",
       "      <td>0.328247</td>\n",
       "      <td>46.821072</td>\n",
       "    </tr>\n",
       "    <tr>\n",
       "      <th>50%</th>\n",
       "      <td>499.500000</td>\n",
       "      <td>0.128729</td>\n",
       "      <td>0.520709</td>\n",
       "      <td>83.503633</td>\n",
       "      <td>0.653754</td>\n",
       "      <td>0.679631</td>\n",
       "      <td>0.654051</td>\n",
       "      <td>88.578565</td>\n",
       "    </tr>\n",
       "    <tr>\n",
       "      <th>75%</th>\n",
       "      <td>749.250000</td>\n",
       "      <td>0.572703</td>\n",
       "      <td>1.701580</td>\n",
       "      <td>98.098320</td>\n",
       "      <td>0.768840</td>\n",
       "      <td>0.770606</td>\n",
       "      <td>0.768481</td>\n",
       "      <td>98.776680</td>\n",
       "    </tr>\n",
       "    <tr>\n",
       "      <th>max</th>\n",
       "      <td>999.000000</td>\n",
       "      <td>20.007770</td>\n",
       "      <td>2.588678</td>\n",
       "      <td>99.920527</td>\n",
       "      <td>0.782749</td>\n",
       "      <td>0.782780</td>\n",
       "      <td>0.782758</td>\n",
       "      <td>99.920527</td>\n",
       "    </tr>\n",
       "  </tbody>\n",
       "</table>\n",
       "</div>"
      ],
      "text/plain": [
       "             epoch     loss_avg    loss_test     acc_test      f1_test  \\\n",
       "count  1000.000000  1000.000000  1000.000000  1000.000000  1000.000000   \n",
       "mean    499.500000     0.345473     0.863734    71.569267     0.553706   \n",
       "std     288.819436     0.746869     0.831901    28.084318     0.230352   \n",
       "min       0.000000     0.002734     0.011604     9.230245     0.025715   \n",
       "25%     249.750000     0.024524     0.084107    41.885218     0.323443   \n",
       "50%     499.500000     0.128729     0.520709    83.503633     0.653754   \n",
       "75%     749.250000     0.572703     1.701580    98.098320     0.768840   \n",
       "max     999.000000    20.007770     2.588678    99.920527     0.782749   \n",
       "\n",
       "       precision_test  recall_test     best_acc  \n",
       "count     1000.000000  1000.000000  1000.000000  \n",
       "mean         0.590254     0.560634    75.217711  \n",
       "std          0.201873     0.219981    25.249273  \n",
       "min          0.027763     0.072275    31.198910  \n",
       "25%          0.416577     0.328247    46.821072  \n",
       "50%          0.679631     0.654051    88.578565  \n",
       "75%          0.770606     0.768481    98.776680  \n",
       "max          0.782780     0.782758    99.920527  "
      ]
     },
     "execution_count": 10,
     "metadata": {},
     "output_type": "execute_result"
    }
   ],
   "source": [
    "coba_results_df.describe()"
   ]
  },
  {
   "cell_type": "code",
   "execution_count": 11,
   "id": "a590d757-9a5e-48a0-98a9-55cdcb341ccc",
   "metadata": {},
   "outputs": [
    {
     "data": {
      "text/plain": [
       "PosixPath('/home/tank/Coding-Practice/objective3-fl-experiment/dynamic-model-selection-for-async-fl/save/coba_legacy/cnn_iidFalse_num98_C0.3_le1/shard2/seed0_coba_fedavg_bestcase_run2')"
      ]
     },
     "execution_count": 11,
     "metadata": {},
     "output_type": "execute_result"
    }
   ],
   "source": [
    "args.num_users = 98\n",
    "args.frac = \"0.3\"\n",
    "args.iid = False\n",
    "args.log_level = \"info\"  # \"debug\" might crash the notebook\n",
    "args.seed = 0\n",
    "args.results_save = \"coba_fedavg_bestcase_run2\"\n",
    "\n",
    "base_dir: Path = Path(\n",
    "    Path.cwd().parent,\n",
    "    \"save\",\n",
    "    \"coba_legacy\",\n",
    "    f\"{args.model}_iid{args.iid}_num{args.num_users}_C{args.frac}_le{args.local_ep}\",\n",
    "    f\"shard{args.shard_per_user}\",\n",
    ")\n",
    "\n",
    "\n",
    "base_dir = Path(base_dir, f\"seed{args.seed}_{args.results_save}\")\n",
    "base_dir"
   ]
  },
  {
   "cell_type": "code",
   "execution_count": null,
   "id": "dd3fadc7-5120-42c4-adbc-a2e219e48458",
   "metadata": {},
   "outputs": [],
   "source": [
    "from utils.train_utils import save_metrics_graphs\n",
    "\n",
    "save_metrics_graphs(base_dir=base_dir, df=coba_results_df)"
   ]
  },
  {
   "cell_type": "code",
   "execution_count": 29,
   "id": "f5fd5ffa-976d-4993-8d2d-0bc4c9da2f6b",
   "metadata": {},
   "outputs": [],
   "source": [
    "import matplotlib as mpl\n",
    "\n",
    "# import matplotlib.pyplot as plt\n",
    "\n",
    "\n",
    "def graph_adjusted(base_dir: Path, col_name: str, df: pd.DataFrame) -> None:\n",
    "    graphs_dir: Path = Path(base_dir, \"fed\", \"metrics_graphs\")\n",
    "    graphs_dir.mkdir(exist_ok=True)\n",
    "\n",
    "    graph_save_file: Path = Path(graphs_dir, f\"{col_name.title()}.png\")\n",
    "\n",
    "    adjusted_col = (\n",
    "        df.groupby(np.arange(len(df)) // 10).mean()[col_name].values\n",
    "    )  # averaged every 10 epochs\n",
    "    epochs = np.arange(len(df) // 10) * 10\n",
    "\n",
    "    sns.set_style(\"ticks\", {\"grid.linestyle\": \"-.\"})\n",
    "    # sns.set_style(\"dark\", {\"grid.color\":\"0.6\",\"grid.linestyle\":\"-.\"})\n",
    "\n",
    "    fig, ax = plt.subplots(figsize=(5, 5))\n",
    "    # fig, ax = plt.subplots(figsize=(8, 8))\n",
    "\n",
    "    # graph line (0.3 opacity)\n",
    "    sns.lineplot(\n",
    "        x=epochs,\n",
    "        y=adjusted_col,\n",
    "        hue=[\"best\"] * len(epochs),\n",
    "        palette=sns.color_palette(\"Dark2\", n_colors=1),\n",
    "        legend=True,\n",
    "        alpha=0.7,\n",
    "        ax=ax,\n",
    "    ).set(\n",
    "        title=col_name.title(),\n",
    "        xlabel=\"Epochs\",\n",
    "        ylabel=\"Value\",\n",
    "    )\n",
    "\n",
    "    # graph markers (no opacity)\n",
    "    lineplot_markers = sns.lineplot(\n",
    "        x=epochs,\n",
    "        y=adjusted_col,\n",
    "        # markers=True,\n",
    "        marker=\"d\",\n",
    "        # marker=\"v\",\n",
    "        # marker=\"P\",\n",
    "        # dashes=False,\n",
    "        markersize=4,\n",
    "        markerfacecolor=sns.color_palette(\"Dark2\", n_colors=1)[0],\n",
    "        legend=True,\n",
    "        linestyle=\"\",\n",
    "        alpha=1,\n",
    "        ax=ax,\n",
    "    )\n",
    "    plt.legend(frameon=True, framealpha=1).get_frame().set_facecolor(\"white\")\n",
    "\n",
    "    for handler in lineplot_markers.legend_.legend_handles:\n",
    "        handler.set_marker(\"d\")\n",
    "\n",
    "    # for dots in lineplot:\n",
    "    #     color = dots.get_facecolor()\n",
    "    #     dots.set_color(sns.set_hls_values(color, l=0.5))\n",
    "    #     dots.set_alpha(1)\n",
    "    # for line in lineplot.lines:\n",
    "    #     line.set_zorder(0)\n",
    "\n",
    "    plt.grid()\n",
    "    plt.show()\n",
    "    # plt.savefig(graph_save_file)\n",
    "    # plt.clf()"
   ]
  },
  {
   "cell_type": "code",
   "execution_count": 30,
   "id": "f672dcce-165d-4563-9502-3fea6d88cc57",
   "metadata": {},
   "outputs": [
    {
     "name": "stderr",
     "output_type": "stream",
     "text": [
      "/tmp/ipykernel_7917/3747999255.py:63: UserWarning: Matplotlib is currently using pgf, which is a non-GUI backend, so cannot show the figure.\n",
      "  plt.show()\n"
     ]
    }
   ],
   "source": [
    "graph_adjusted(col_name=\"best_acc\", base_dir=base_dir, df=coba_results_df)"
   ]
  },
  {
   "cell_type": "code",
   "execution_count": 405,
   "id": "827657c4-5edf-4d80-b0c5-df1f19543112",
   "metadata": {},
   "outputs": [
    {
     "data": {
      "image/png": "[encoded data removed]",
      "text/plain": [
       "<Figure size 500x500 with 1 Axes>"
      ]
     },
     "metadata": {},
     "output_type": "display_data"
    }
   ],
   "source": [
    "graph_adjusted(col_name=\"acc_test\", base_dir=base_dir, df=coba_results_df)"
   ]
  },
  {
   "cell_type": "code",
   "execution_count": 406,
   "id": "64136710-6299-4c81-8cb6-5e6d847c0ba1",
   "metadata": {},
   "outputs": [
    {
     "data": {
      "image/png": "[encoded data removed]",
      "text/plain": [
       "<Figure size 500x500 with 1 Axes>"
      ]
     },
     "metadata": {},
     "output_type": "display_data"
    }
   ],
   "source": [
    "graph_adjusted(col_name=\"loss_test\", base_dir=base_dir, df=coba_results_df)"
   ]
  },
  {
   "cell_type": "code",
   "execution_count": 407,
   "id": "b500a7d8-136f-4ad4-a893-cf45100cda1e",
   "metadata": {},
   "outputs": [
    {
     "data": {
      "image/png": "[encoded data removed]",
      "text/plain": [
       "<Figure size 500x500 with 1 Axes>"
      ]
     },
     "metadata": {},
     "output_type": "display_data"
    }
   ],
   "source": [
    "graph_adjusted(col_name=\"f1_test\", base_dir=base_dir, df=coba_results_df)"
   ]
  },
  {
   "cell_type": "code",
   "execution_count": 408,
   "id": "fa218c2b-c61c-4ba4-8d36-d099a1506b27",
   "metadata": {},
   "outputs": [
    {
     "data": {
      "image/png": "[encoded data removed]",
      "text/plain": [
       "<Figure size 500x500 with 1 Axes>"
      ]
     },
     "metadata": {},
     "output_type": "display_data"
    }
   ],
   "source": [
    "graph_adjusted(col_name=\"precision_test\", base_dir=base_dir, df=coba_results_df)"
   ]
  },
  {
   "cell_type": "code",
   "execution_count": 402,
   "id": "f8f8a712-0590-463b-a089-52ec66b342f4",
   "metadata": {},
   "outputs": [
    {
     "data": {
      "image/png": "[encoded data removed]",
      "text/plain": [
       "<Figure size 500x500 with 1 Axes>"
      ]
     },
     "metadata": {},
     "output_type": "display_data"
    }
   ],
   "source": [
    "graph_adjusted(\n",
    "    col_name=\"recall_test\",\n",
    "    base_dir=base_dir,\n",
    "    df=coba_results_df,\n",
    ")"
   ]
  },
  {
   "cell_type": "code",
   "execution_count": null,
   "id": "87ead564-778b-4340-a58f-924e52571430",
   "metadata": {},
   "outputs": [],
   "source": []
  }
 ],
 "metadata": {
  "kernelspec": {
   "display_name": "Python 3 (ipykernel)",
   "language": "python",
   "name": "python3"
  },
  "language_info": {
   "codemirror_mode": {
    "name": "ipython",
    "version": 3
   },
   "file_extension": ".py",
   "mimetype": "text/x-python",
   "name": "python",
   "nbconvert_exporter": "python",
   "pygments_lexer": "ipython3",
   "version": "3.8.10"
  }
 },
 "nbformat": 4,
 "nbformat_minor": 5
}
